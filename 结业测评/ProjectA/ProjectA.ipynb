{
 "cells": [
  {
   "cell_type": "code",
   "execution_count": 1,
   "metadata": {},
   "outputs": [],
   "source": [
    "import pandas as pd"
   ]
  },
  {
   "cell_type": "code",
   "execution_count": 2,
   "metadata": {},
   "outputs": [],
   "source": [
    "car_data = pd.read_csv(\"./【最热大众汽车最新价格】汽车报价及图片大全-易车.csv\")\n",
    "car_data[\"价格\"] = car_data[\"价格\"].map(lambda x: x.rstrip(\"万\"))\n",
    "#print(car_data)"
   ]
  },
  {
   "cell_type": "code",
   "execution_count": 3,
   "metadata": {},
   "outputs": [
    {
     "name": "stdout",
     "output_type": "stream",
     "text": [
      "        0      1\n",
      "0    9.99  16.19\n",
      "1    9.88  15.60\n",
      "2   12.89  19.19\n",
      "3    8.69  11.59\n",
      "4   18.61  30.99\n",
      "5   18.59  31.39\n",
      "6   14.29  19.69\n",
      "7   16.58  22.38\n",
      "8   14.13  23.42\n",
      "9   18.49  28.29\n",
      "10  21.88  31.18\n",
      "11  29.99  50.59\n",
      "12  11.49  15.99\n",
      "13  13.58  20.38\n",
      "14  24.68  30.18\n",
      "15  19.48  23.18\n",
      "16  11.49  15.99\n",
      "17  56.98  82.18\n",
      "18  23.58  29.58\n",
      "19   9.99  12.39\n",
      "20  28.99  43.99\n",
      "21  34.00  63.90\n",
      "22  28.68  39.98\n",
      "23  15.18  19.48\n",
      "24  12.59  14.97\n",
      "25  17.88  25.58\n",
      "26  12.88  19.28\n",
      "27  24.39  25.39\n",
      "28  20.98  37.28\n",
      "29  26.58  32.58\n",
      "30  24.98  25.98\n",
      "31  23.98  35.08\n",
      "32  24.38  39.28\n",
      "33  14.89   None\n",
      "34  25.39  26.89\n",
      "35  13.68  14.68\n",
      "36  42.80  50.68\n",
      "37  24.68  34.38\n",
      "38  35.50  38.20\n",
      "39  14.77  16.88\n",
      "40  30.18   None\n",
      "41  24.08   None\n",
      "42     暂无   None\n",
      "43     暂无   None\n"
     ]
    }
   ],
   "source": [
    "values = []\n",
    "for v in car_data[\"价格\"]:\n",
    "    values.append(v.split(\"-\"))\n",
    "values = pd.DataFrame(values)\n",
    "print(values)"
   ]
  },
  {
   "cell_type": "code",
   "execution_count": 4,
   "metadata": {},
   "outputs": [
    {
     "name": "stdout",
     "output_type": "stream",
     "text": [
      "             名称   最低价格   最高价格  \\\n",
      "0            朗逸   9.99  16.19   \n",
      "1            宝来   9.88  15.60   \n",
      "2            速腾  12.89  19.19   \n",
      "3           桑塔纳   8.69  11.59   \n",
      "4            迈腾  18.61  30.99   \n",
      "5            探岳  18.59  31.39   \n",
      "6            凌渡  14.29  19.69   \n",
      "7            途岳  16.58  22.38   \n",
      "8           高尔夫  14.13  23.42   \n",
      "9           帕萨特  18.49  28.29   \n",
      "10          途观L  21.88  31.18   \n",
      "11           途昂  29.99  50.59   \n",
      "12           途铠  11.49  15.99   \n",
      "13           探歌  13.58  20.38   \n",
      "14      一汽-大众CC  24.68  30.18   \n",
      "15           途观  19.48  23.18   \n",
      "16           探影  11.49  15.99   \n",
      "17           途锐  56.98  82.18   \n",
      "18          探岳X  23.58  29.58   \n",
      "19         Polo   9.99  12.39   \n",
      "20          途昂X  28.99  43.99   \n",
      "21           辉昂  34.00  63.90   \n",
      "22           威然  28.68  39.98   \n",
      "23          途安L  15.18  19.48   \n",
      "24           蔚领  12.59  14.97   \n",
      "25          甲壳虫  17.88  25.58   \n",
      "26       高尔夫·嘉旅  12.88  19.28   \n",
      "27     帕萨特 插电混动  24.39  25.39   \n",
      "28      高尔夫(进口)  20.98  37.28   \n",
      "29     途观L 插电混动  26.58  32.58   \n",
      "30   探岳GTE 插电混动  24.98  25.98   \n",
      "31       Tiguan  23.98  35.08   \n",
      "32           蔚揽  24.38  39.28   \n",
      "33         朗逸纯电  14.89   None   \n",
      "34   迈腾GTE 插电混动  25.39  26.89   \n",
      "35        宝来·纯电  13.68  14.68   \n",
      "36          迈特威  42.80  50.68   \n",
      "37           夏朗  24.68  34.38   \n",
      "38          凯路威  35.50  38.20   \n",
      "39       高尔夫·纯电  14.77  16.88   \n",
      "40      蔚揽 插电混动  30.18   None   \n",
      "41  高尔夫 纯电动(进口)  24.08   None   \n",
      "42      途锐 插电混动     暂无   None   \n",
      "43     Polo(海外)     暂无   None   \n",
      "\n",
      "                                               产品图片链接  \n",
      "0   http://img4.bitautoimg.com/autoalbum/files/201...  \n",
      "1   http://img2.bitautoimg.com/autoalbum/files/201...  \n",
      "2   http://img2.bitautoimg.com/autoalbum/files/201...  \n",
      "3   http://img4.bitautoimg.com/autoalbum/files/201...  \n",
      "4   http://img1.bitautoimg.com/autoalbum/files/201...  \n",
      "5   http://img2.bitautoimg.com/autoalbum/files/201...  \n",
      "6   http://img1.bitautoimg.com/autoalbum/files/201...  \n",
      "7   http://img2.bitautoimg.com/autoalbum/files/201...  \n",
      "8   http://img2.bitautoimg.com/autoalbum/files/201...  \n",
      "9   http://img1.bitautoimg.com/autoalbum/files/201...  \n",
      "10  http://img4.bitautoimg.com/autoalbum/files/201...  \n",
      "11  http://img3.bitautoimg.com/autoalbum/files/201...  \n",
      "12  http://img2.bitautoimg.com/autoalbum/files/201...  \n",
      "13  http://img4.bitautoimg.com/autoalbum/files/201...  \n",
      "14  http://img1.bitautoimg.com/autoalbum/files/201...  \n",
      "15  http://img1.bitautoimg.com/autoalbum/files/201...  \n",
      "16  http://img1.bitautoimg.com/autoalbum/files/201...  \n",
      "17  http://img3.bitautoimg.com/autoalbum/files/201...  \n",
      "18  http://img1.bitautoimg.com/autoalbum/files/202...  \n",
      "19  http://img1.bitautoimg.com/autoalbum/files/201...  \n",
      "20  http://img1.bitautoimg.com/autoalbum/files/201...  \n",
      "21  http://img2.bitautoimg.com/autoalbum/files/201...  \n",
      "22  http://img2.bitautoimg.com/autoalbum/files/202...  \n",
      "23  http://img2.bitautoimg.com/autoalbum/files/201...  \n",
      "24  http://img3.bitautoimg.com/autoalbum/files/201...  \n",
      "25  http://img2.bitautoimg.com/autoalbum/files/201...  \n",
      "26  http://img3.bitautoimg.com/autoalbum/files/201...  \n",
      "27  http://img3.bitautoimg.com/autoalbum/files/201...  \n",
      "28  http://img3.bitautoimg.com/autoalbum/files/201...  \n",
      "29  http://img4.bitautoimg.com/autoalbum/files/201...  \n",
      "30  http://img3.bitautoimg.com/autoalbum/files/202...  \n",
      "31  http://img1.bitautoimg.com/autoalbum/files/201...  \n",
      "32  http://img2.bitautoimg.com/autoalbum/files/201...  \n",
      "33  http://img2.bitautoimg.com/autoalbum/files/201...  \n",
      "34  http://img2.bitautoimg.com/autoalbum/files/202...  \n",
      "35  http://img4.bitautoimg.com/autoalbum/files/201...  \n",
      "36  http://img1.bitautoimg.com/autoalbum/files/201...  \n",
      "37  http://img1.bitautoimg.com/autoalbum/files/201...  \n",
      "38  http://img2.bitautoimg.com/autoalbum/files/201...  \n",
      "39  http://img2.bitautoimg.com/autoalbum/files/201...  \n",
      "40  http://img1.bitautoimg.com/autoalbum/files/201...  \n",
      "41  http://img2.bitautoimg.com/autoalbum/files/202...  \n",
      "42  http://img4.bitautoimg.com/autoalbum/files/201...  \n",
      "43  http://img4.bitautoimg.com/autoalbum/files/201...  \n"
     ]
    }
   ],
   "source": [
    "car_data = car_data.drop(\"价格\", 1).join(values).rename({0:u\"最低价格\", 1:u\"最高价格\", \"图片\":\"产品图片链接\"}, axis = 1)[[\"名称\", \"最低价格\", \"最高价格\", \"产品图片链接\"]]\n",
    "print(car_data)"
   ]
  },
  {
   "cell_type": "code",
   "execution_count": 5,
   "metadata": {},
   "outputs": [],
   "source": [
    "car_data.to_excel(\"./collected_car_data.xlsx\", index = False)"
   ]
  },
  {
   "cell_type": "code",
   "execution_count": 6,
   "metadata": {},
   "outputs": [],
   "source": [
    "car_data.to_csv(\"./collected_car_data.csv\", index = False)"
   ]
  },
  {
   "cell_type": "code",
   "execution_count": null,
   "metadata": {},
   "outputs": [],
   "source": []
  }
 ],
 "metadata": {
  "kernelspec": {
   "display_name": "Python 3",
   "language": "python",
   "name": "python3"
  },
  "language_info": {
   "codemirror_mode": {
    "name": "ipython",
    "version": 3
   },
   "file_extension": ".py",
   "mimetype": "text/x-python",
   "name": "python",
   "nbconvert_exporter": "python",
   "pygments_lexer": "ipython3",
   "version": "3.7.7"
  }
 },
 "nbformat": 4,
 "nbformat_minor": 4
}
