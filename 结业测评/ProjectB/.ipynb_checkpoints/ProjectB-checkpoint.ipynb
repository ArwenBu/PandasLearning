{
 "cells": [
  {
   "cell_type": "code",
   "execution_count": 13,
   "metadata": {},
   "outputs": [],
   "source": [
    "import pandas as pd"
   ]
  },
  {
   "cell_type": "markdown",
   "metadata": {},
   "source": [
    "# 读取需要合并的数据表"
   ]
  },
  {
   "cell_type": "code",
   "execution_count": 14,
   "metadata": {},
   "outputs": [],
   "source": [
    "order_list = pd.read_csv(\"./订单表.csv\", encoding = \"gbk\")\n",
    "date_list = pd.read_csv(\"./日期表.csv\", encoding = \"gbk\")\n",
    "order_list.rename(columns = {\"订单日期\" : \"日期\"}, inplace = True)\n",
    "order_list = order_list.merge(date_list, how = \"left\", on = [\"日期\"])"
   ]
  },
  {
   "cell_type": "markdown",
   "metadata": {},
   "source": [
    "# 根据客户ID整理数据"
   ]
  },
  {
   "cell_type": "code",
   "execution_count": 12,
   "metadata": {},
   "outputs": [
    {
     "name": "stdout",
     "output_type": "stream",
     "text": [
      "       公路自行车  头盔  山地自行车  帽子  手套  挂架  挡泥板  旅行自行车  水壶和水壶架  水袋背包  清洁剂  短裤  背心  \\\n",
      "客户ID                                                                         \n",
      "11000      0   1      1   0   0   0    1      1       0     0    0   0   0   \n",
      "11001      1   1      1   1   0   0    1      0       1     0    0   0   0   \n",
      "11002      0   1      1   0   0   0    0      1       0     0    0   0   0   \n",
      "11003      0   0      1   1   0   0    0      1       1     0    0   0   0   \n",
      "11004      0   1      1   0   0   0    1      1       0     0    0   0   0   \n",
      "...      ...  ..    ...  ..  ..  ..  ...    ...     ...   ...  ...  ..  ..   \n",
      "29479      0   0      1   0   0   0    0      0       0     0    0   0   0   \n",
      "29480      0   1      0   1   0   0    0      1       1     0    0   0   0   \n",
      "29481      0   0      1   0   0   0    0      0       0     0    0   0   0   \n",
      "29482      0   0      1   0   0   0    0      0       0     0    0   0   0   \n",
      "29483      0   0      1   0   0   0    0      0       0     0    0   0   0   \n",
      "\n",
      "       自行车支架  袜子  车胎和内胎  骑行服  \n",
      "客户ID                          \n",
      "11000      0   0      1    1  \n",
      "11001      0   0      0    1  \n",
      "11002      0   0      0    0  \n",
      "11003      0   0      1    0  \n",
      "11004      0   0      0    0  \n",
      "...      ...  ..    ...  ...  \n",
      "29479      0   0      0    0  \n",
      "29480      0   0      0    0  \n",
      "29481      0   0      0    0  \n",
      "29482      0   0      0    0  \n",
      "29483      0   0      0    0  \n",
      "\n",
      "[18484 rows x 17 columns]\n"
     ]
    }
   ],
   "source": [
    "customer_list = pd.DataFrame(order_list.groupby(by = \"客户ID\").产品名称.agg(\" \".join))\n",
    "customer_list = customer_list.drop(\"产品名称\", 1).join(customer_list.产品名称.str.get_dummies(\" \"))\n",
    "print(customer_list)"
   ]
  },
  {
   "cell_type": "code",
   "execution_count": 15,
   "metadata": {},
   "outputs": [],
   "source": [
    "from mlxtend.frequent_patterns import apriori\n",
    "from mlxtend.frequent_patterns import association_rules"
   ]
  },
  {
   "cell_type": "markdown",
   "metadata": {},
   "source": [
    "# 挖掘频繁项集"
   ]
  },
  {
   "cell_type": "code",
   "execution_count": 16,
   "metadata": {},
   "outputs": [
    {
     "name": "stdout",
     "output_type": "stream",
     "text": [
      "******************** 频繁项集 ********************\n",
      "     support         itemsets\n",
      "9   0.459316          (车胎和内胎)\n",
      "0   0.346083          (公路自行车)\n",
      "1   0.322441             (头盔)\n",
      "7   0.246051         (水壶和水壶架)\n",
      "2   0.221218          (山地自行车)\n",
      "10  0.172690            (骑行服)\n",
      "19  0.158029      (车胎和内胎, 头盔)\n",
      "6   0.115938          (旅行自行车)\n",
      "3   0.115343             (帽子)\n",
      "5   0.114153            (挡泥板)\n",
      "12  0.111069   (山地自行车, 公路自行车)\n",
      "11  0.110961      (头盔, 公路自行车)\n",
      "13  0.086020  (水壶和水壶架, 公路自行车)\n",
      "18  0.078609     (水壶和水壶架, 头盔)\n",
      "14  0.078446   (车胎和内胎, 公路自行车)\n",
      "16  0.075092      (山地自行车, 头盔)\n",
      "4   0.074443             (手套)\n",
      "20  0.067410   (山地自行车, 旅行自行车)\n",
      "21  0.067410  (山地自行车, 水壶和水壶架)\n",
      "15  0.062432     (骑行服, 公路自行车)\n",
      "23  0.062216     (车胎和内胎, 骑行服)\n",
      "22  0.059890   (车胎和内胎, 山地自行车)\n",
      "17  0.057239      (旅行自行车, 头盔)\n",
      "8   0.055129             (短裤)\n"
     ]
    }
   ],
   "source": [
    "itemsets = apriori(customer_list, use_colnames = True, min_support = 0.05)\n",
    "itemsets = itemsets.sort_values(by = \"support\" , ascending = False) \n",
    "print(\"*\" * 20, \"频繁项集\", \"*\" * 20)\n",
    "print(itemsets)"
   ]
  },
  {
   "cell_type": "markdown",
   "metadata": {},
   "source": [
    "# 计算关联规则"
   ]
  },
  {
   "cell_type": "code",
   "execution_count": 17,
   "metadata": {},
   "outputs": [
    {
     "name": "stdout",
     "output_type": "stream",
     "text": [
      "******************** 关联规则 ********************\n",
      "   antecedents consequents  antecedent support  consequent support   support  \\\n",
      "9      (旅行自行车)     (山地自行车)            0.115938            0.221218  0.067410   \n",
      "8      (山地自行车)     (旅行自行车)            0.221218            0.115938  0.067410   \n",
      "14     (旅行自行车)        (头盔)            0.115938            0.322441  0.057239   \n",
      "15        (头盔)     (旅行自行车)            0.322441            0.115938  0.057239   \n",
      "2      (山地自行车)     (公路自行车)            0.221218            0.346083  0.111069   \n",
      "3      (公路自行车)     (山地自行车)            0.346083            0.221218  0.111069   \n",
      "10     (山地自行车)    (水壶和水壶架)            0.221218            0.246051  0.067410   \n",
      "11    (水壶和水壶架)     (山地自行车)            0.246051            0.221218  0.067410   \n",
      "0      (车胎和内胎)        (头盔)            0.459316            0.322441  0.158029   \n",
      "1         (头盔)     (车胎和内胎)            0.322441            0.459316  0.158029   \n",
      "6      (山地自行车)        (头盔)            0.221218            0.322441  0.075092   \n",
      "7         (头盔)     (山地自行车)            0.322441            0.221218  0.075092   \n",
      "12       (骑行服)     (公路自行车)            0.172690            0.346083  0.062432   \n",
      "13     (公路自行车)       (骑行服)            0.346083            0.172690  0.062432   \n",
      "4     (水壶和水壶架)     (公路自行车)            0.246051            0.346083  0.086020   \n",
      "5      (公路自行车)    (水壶和水壶架)            0.346083            0.246051  0.086020   \n",
      "\n",
      "    confidence      lift  leverage  conviction  \n",
      "9     0.581428  2.628299  0.041762    1.860568  \n",
      "8     0.304720  2.628299  0.041762    1.271519  \n",
      "14    0.493700  1.531134  0.019855    1.338257  \n",
      "15    0.177517  1.531134  0.019855    1.074869  \n",
      "2     0.502079  1.450746  0.034509    1.313294  \n",
      "3     0.320932  1.450746  0.034509    1.146838  \n",
      "10    0.304720  1.238444  0.012979    1.084382  \n",
      "11    0.273967  1.238444  0.012979    1.072653  \n",
      "0     0.344052  1.067022  0.009926    1.032946  \n",
      "1     0.490101  1.067022  0.009926    1.060374  \n",
      "6     0.339447  1.052742  0.003762    1.025746  \n",
      "7     0.232886  1.052742  0.003762    1.015210  \n",
      "12    0.361529  1.044630  0.002667    1.024192  \n",
      "13    0.180397  1.044630  0.002667    1.009404  \n",
      "4     0.349604  1.010174  0.000866    1.005414  \n",
      "5     0.248554  1.010174  0.000866    1.003331  \n"
     ]
    }
   ],
   "source": [
    "rules =  association_rules(itemsets, metric = 'lift', min_threshold = 1)\n",
    "rules = rules.sort_values(by = \"lift\" , ascending = False) \n",
    "print(\"*\" * 20, \"关联规则\", \"*\" * 20)\n",
    "print(rules)"
   ]
  },
  {
   "cell_type": "code",
   "execution_count": null,
   "metadata": {},
   "outputs": [],
   "source": []
  }
 ],
 "metadata": {
  "kernelspec": {
   "display_name": "Python 3",
   "language": "python",
   "name": "python3"
  },
  "language_info": {
   "codemirror_mode": {
    "name": "ipython",
    "version": 3
   },
   "file_extension": ".py",
   "mimetype": "text/x-python",
   "name": "python",
   "nbconvert_exporter": "python",
   "pygments_lexer": "ipython3",
   "version": "3.7.7"
  }
 },
 "nbformat": 4,
 "nbformat_minor": 4
}
